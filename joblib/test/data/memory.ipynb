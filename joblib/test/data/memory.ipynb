{
 "cells": [
  {
   "cell_type": "code",
   "execution_count": 1,
   "metadata": {},
   "outputs": [
    {
     "data": {
      "text/plain": [
       "4"
      ]
     },
     "execution_count": 1,
     "metadata": {},
     "output_type": "execute_result"
    }
   ],
   "source": [
    "import tempfile\n",
    "from pathlib import Path\n",
    "from joblib import Memory\n",
    "\n",
    "tmpdir = Path(tempfile.mkdtemp())\n",
    "\n",
    "memory = Memory(location=tmpdir, verbose=0)\n",
    "\n",
    "@memory.cache\n",
    "def f(x):\n",
    "    return 2 * x\n",
    "\n",
    "f(2)"
   ]
  },
  {
   "cell_type": "code",
   "execution_count": 2,
   "metadata": {},
   "outputs": [],
   "source": [
    "subdirs = list(tmpdir.iterdir())\n",
    "\n",
    "assert len(subdirs) == 1\n",
    "assert subdirs[0].name.startswith(\"__main__\")\n",
    "assert len(list((subdirs[0] / \"f\").iterdir())) == 2\n",
    "f(3)\n",
    "assert len(list((subdirs[0] / \"f\").iterdir())) == 3"
   ]
  },
  {
   "cell_type": "code",
   "execution_count": 3,
   "metadata": {},
   "outputs": [],
   "source": [
    "# Now we invalidate the cache by calling another function with the same name\n",
    "@memory.cache\n",
    "def f(x):\n",
    "    return 3 * x\n",
    "\n",
    "f(2)\n",
    "assert len(list((subdirs[0] / \"f\").iterdir())) == 2"
   ]
  }
 ],
 "metadata": {
  "kernelspec": {
   "display_name": "mne",
   "language": "python",
   "name": "python3"
  },
  "language_info": {
   "codemirror_mode": {
    "name": "ipython",
    "version": 3
   },
   "file_extension": ".py",
   "mimetype": "text/x-python",
   "name": "python",
   "nbconvert_exporter": "python",
   "pygments_lexer": "ipython3",
   "version": "3.10.8"
  },
  "orig_nbformat": 4
 },
 "nbformat": 4,
 "nbformat_minor": 2
}
